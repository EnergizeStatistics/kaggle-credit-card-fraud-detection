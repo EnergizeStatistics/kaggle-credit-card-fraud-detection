{
 "cells": [
  {
   "cell_type": "markdown",
   "metadata": {},
   "source": [
    "# Credit Card Fraud Detection # "
   ]
  },
  {
   "cell_type": "markdown",
   "metadata": {},
   "source": [
    "## Prepare Tools ##"
   ]
  },
  {
   "cell_type": "code",
   "execution_count": 1,
   "metadata": {},
   "outputs": [],
   "source": [
    "%matplotlib inline\n",
    "\n",
    "import numpy as np\n",
    "import pandas as pd\n",
    "\n",
    "import matplotlib.pyplot as plt\n",
    "import matplotlib.ticker as ticker\n",
    "import seaborn as sns\n",
    "\n",
    "from sklearn.model_selection import train_test_split\n",
    "\n",
    "# oversampling\n",
    "from imblearn.over_sampling import SMOTE\n",
    "\n",
    "# anomaly detection methods\n",
    "from sklearn.ensemble import IsolationForest\n",
    "from sklearn.svm import OneClassSVM\n",
    "\n",
    "# all-purpose methods\n",
    "from lightgbm import LGBMClassifier\n",
    "from xgboost import XGBClassifier\n",
    "\n",
    "# evaluation\n",
    "from sklearn.metrics import average_precision_score\n",
    "from sklearn.metrics import precision_recall_curve"
   ]
  },
  {
   "cell_type": "markdown",
   "metadata": {},
   "source": [
    "## Prepare Data ##"
   ]
  },
  {
   "cell_type": "code",
   "execution_count": 2,
   "metadata": {},
   "outputs": [],
   "source": [
    "working_dir = \"/home/lee/Documents/Datasets for GitHub/kaggle_credit_card_fraud_detection/\"\n",
    "df = pd.read_csv(working_dir+'creditcard.csv', header=0, index_col=False)"
   ]
  },
  {
   "cell_type": "code",
   "execution_count": 3,
   "metadata": {},
   "outputs": [
    {
     "name": "stdout",
     "output_type": "stream",
     "text": [
      "dataframe shape: (284807, 31)\n",
      "\n",
      "\n",
      "preview data: \n",
      "\n",
      "   Time        V1        V2        V3        V4        V5        V6        V7\n",
      "0   0.0 -1.359807 -0.072781  2.536347  1.378155 -0.338321  0.462388  0.239599\n",
      "1   0.0  1.191857  0.266151  0.166480  0.448154  0.060018 -0.082361 -0.078803\n",
      "2   1.0 -1.358354 -1.340163  1.773209  0.379780 -0.503198  1.800499  0.791461\n",
      "3   1.0 -0.966272 -0.185226  1.792993 -0.863291 -0.010309  1.247203  0.237609\n",
      "4   2.0 -1.158233  0.877737  1.548718  0.403034 -0.407193  0.095921  0.592941\n",
      "         V8        V9       V10       V11       V12       V13       V14  \\\n",
      "0  0.098698  0.363787  0.090794 -0.551600 -0.617801 -0.991390 -0.311169   \n",
      "1  0.085102 -0.255425 -0.166974  1.612727  1.065235  0.489095 -0.143772   \n",
      "2  0.247676 -1.514654  0.207643  0.624501  0.066084  0.717293 -0.165946   \n",
      "3  0.377436 -1.387024 -0.054952 -0.226487  0.178228  0.507757 -0.287924   \n",
      "4 -0.270533  0.817739  0.753074 -0.822843  0.538196  1.345852 -1.119670   \n",
      "\n",
      "        V15  \n",
      "0  1.468177  \n",
      "1  0.635558  \n",
      "2  2.345865  \n",
      "3 -0.631418  \n",
      "4  0.175121  \n",
      "        V16       V17       V18       V19       V20       V21       V22  \\\n",
      "0 -0.470401  0.207971  0.025791  0.403993  0.251412 -0.018307  0.277838   \n",
      "1  0.463917 -0.114805 -0.183361 -0.145783 -0.069083 -0.225775 -0.638672   \n",
      "2 -2.890083  1.109969 -0.121359 -2.261857  0.524980  0.247998  0.771679   \n",
      "3 -1.059647 -0.684093  1.965775 -1.232622 -0.208038 -0.108300  0.005274   \n",
      "4 -0.451449 -0.237033 -0.038195  0.803487  0.408542 -0.009431  0.798278   \n",
      "\n",
      "        V23  \n",
      "0 -0.110474  \n",
      "1  0.101288  \n",
      "2  0.909412  \n",
      "3 -0.190321  \n",
      "4 -0.137458  \n",
      "        V24       V25       V26       V27       V28  Amount  Class\n",
      "0  0.066928  0.128539 -0.189115  0.133558 -0.021053  149.62      0\n",
      "1 -0.339846  0.167170  0.125895 -0.008983  0.014724    2.69      0\n",
      "2 -0.689281 -0.327642 -0.139097 -0.055353 -0.059752  378.66      0\n",
      "3 -1.175575  0.647376 -0.221929  0.062723  0.061458  123.50      0\n",
      "4  0.141267 -0.206010  0.502292  0.219422  0.215153   69.99      0\n",
      "\n",
      "\n",
      "summarize data: \n",
      "\n",
      "                Time            V1            V2            V3            V4  \\\n",
      "count  284807.000000  2.848070e+05  2.848070e+05  2.848070e+05  2.848070e+05   \n",
      "mean    94813.859575  1.165980e-15  3.416908e-16 -1.373150e-15  2.086869e-15   \n",
      "std     47488.145955  1.958696e+00  1.651309e+00  1.516255e+00  1.415869e+00   \n",
      "min         0.000000 -5.640751e+01 -7.271573e+01 -4.832559e+01 -5.683171e+00   \n",
      "25%     54201.500000 -9.203734e-01 -5.985499e-01 -8.903648e-01 -8.486401e-01   \n",
      "50%     84692.000000  1.810880e-02  6.548556e-02  1.798463e-01 -1.984653e-02   \n",
      "75%    139320.500000  1.315642e+00  8.037239e-01  1.027196e+00  7.433413e-01   \n",
      "max    172792.000000  2.454930e+00  2.205773e+01  9.382558e+00  1.687534e+01   \n",
      "\n",
      "                 V5            V6            V7  \n",
      "count  2.848070e+05  2.848070e+05  2.848070e+05  \n",
      "mean   9.604066e-16  1.490107e-15 -5.556467e-16  \n",
      "std    1.380247e+00  1.332271e+00  1.237094e+00  \n",
      "min   -1.137433e+02 -2.616051e+01 -4.355724e+01  \n",
      "25%   -6.915971e-01 -7.682956e-01 -5.540759e-01  \n",
      "50%   -5.433583e-02 -2.741871e-01  4.010308e-02  \n",
      "75%    6.119264e-01  3.985649e-01  5.704361e-01  \n",
      "max    3.480167e+01  7.330163e+01  1.205895e+02  \n",
      "                 V8            V9           V10           V11           V12  \\\n",
      "count  2.848070e+05  2.848070e+05  2.848070e+05  2.848070e+05  2.848070e+05   \n",
      "mean   1.177556e-16 -2.406455e-15  2.239751e-15  1.673327e-15 -1.254995e-15   \n",
      "std    1.194353e+00  1.098632e+00  1.088850e+00  1.020713e+00  9.992014e-01   \n",
      "min   -7.321672e+01 -1.343407e+01 -2.458826e+01 -4.797473e+00 -1.868371e+01   \n",
      "25%   -2.086297e-01 -6.430976e-01 -5.354257e-01 -7.624942e-01 -4.055715e-01   \n",
      "50%    2.235804e-02 -5.142873e-02 -9.291738e-02 -3.275735e-02  1.400326e-01   \n",
      "75%    3.273459e-01  5.971390e-01  4.539234e-01  7.395934e-01  6.182380e-01   \n",
      "max    2.000721e+01  1.559499e+01  2.374514e+01  1.201891e+01  7.848392e+00   \n",
      "\n",
      "                V13           V14           V15  \n",
      "count  2.848070e+05  2.848070e+05  2.848070e+05  \n",
      "mean   8.176030e-16  1.206296e-15  4.913003e-15  \n",
      "std    9.952742e-01  9.585956e-01  9.153160e-01  \n",
      "min   -5.791881e+00 -1.921433e+01 -4.498945e+00  \n",
      "25%   -6.485393e-01 -4.255740e-01 -5.828843e-01  \n",
      "50%   -1.356806e-02  5.060132e-02  4.807155e-02  \n",
      "75%    6.625050e-01  4.931498e-01  6.488208e-01  \n",
      "max    7.126883e+00  1.052677e+01  8.877742e+00  \n",
      "                V16           V17           V18           V19           V20  \\\n",
      "count  2.848070e+05  2.848070e+05  2.848070e+05  2.848070e+05  2.848070e+05   \n",
      "mean   1.437666e-15 -3.800113e-16  9.572133e-16  1.039817e-15  6.406703e-16   \n",
      "std    8.762529e-01  8.493371e-01  8.381762e-01  8.140405e-01  7.709250e-01   \n",
      "min   -1.412985e+01 -2.516280e+01 -9.498746e+00 -7.213527e+00 -5.449772e+01   \n",
      "25%   -4.680368e-01 -4.837483e-01 -4.988498e-01 -4.562989e-01 -2.117214e-01   \n",
      "50%    6.641332e-02 -6.567575e-02 -3.636312e-03  3.734823e-03 -6.248109e-02   \n",
      "75%    5.232963e-01  3.996750e-01  5.008067e-01  4.589494e-01  1.330408e-01   \n",
      "max    1.731511e+01  9.253526e+00  5.041069e+00  5.591971e+00  3.942090e+01   \n",
      "\n",
      "                V21           V22           V23  \n",
      "count  2.848070e+05  2.848070e+05  2.848070e+05  \n",
      "mean   1.656562e-16 -3.444850e-16  2.578648e-16  \n",
      "std    7.345240e-01  7.257016e-01  6.244603e-01  \n",
      "min   -3.483038e+01 -1.093314e+01 -4.480774e+01  \n",
      "25%   -2.283949e-01 -5.423504e-01 -1.618463e-01  \n",
      "50%   -2.945017e-02  6.781943e-03 -1.119293e-02  \n",
      "75%    1.863772e-01  5.285536e-01  1.476421e-01  \n",
      "max    2.720284e+01  1.050309e+01  2.252841e+01  \n",
      "                V24           V25           V26           V27           V28  \\\n",
      "count  2.848070e+05  2.848070e+05  2.848070e+05  2.848070e+05  2.848070e+05   \n",
      "mean   4.471968e-15  5.340915e-16  1.687098e-15 -3.666453e-16 -1.220404e-16   \n",
      "std    6.056471e-01  5.212781e-01  4.822270e-01  4.036325e-01  3.300833e-01   \n",
      "min   -2.836627e+00 -1.029540e+01 -2.604551e+00 -2.256568e+01 -1.543008e+01   \n",
      "25%   -3.545861e-01 -3.171451e-01 -3.269839e-01 -7.083953e-02 -5.295979e-02   \n",
      "50%    4.097606e-02  1.659350e-02 -5.213911e-02  1.342146e-03  1.124383e-02   \n",
      "75%    4.395266e-01  3.507156e-01  2.409522e-01  9.104512e-02  7.827995e-02   \n",
      "max    4.584549e+00  7.519589e+00  3.517346e+00  3.161220e+01  3.384781e+01   \n",
      "\n",
      "              Amount          Class  \n",
      "count  284807.000000  284807.000000  \n",
      "mean       88.349619       0.001727  \n",
      "std       250.120109       0.041527  \n",
      "min         0.000000       0.000000  \n",
      "25%         5.600000       0.000000  \n",
      "50%        22.000000       0.000000  \n",
      "75%        77.165000       0.000000  \n",
      "max     25691.160000       1.000000  \n"
     ]
    }
   ],
   "source": [
    "print(\"dataframe shape: {}\".format(df.shape))\n",
    "print(\"\\n\")\n",
    "\n",
    "print(\"preview data: \\n\")\n",
    "for i in list(range(0, len(df.columns), 8)):\n",
    "    print(df.iloc[0:5, i:i+8])\n",
    "print(\"\\n\")\n",
    "\n",
    "print(\"summarize data: \\n\")\n",
    "for i in list(range(0, len(df.columns), 8)):\n",
    "    print(df.iloc[:, i:i+8].describe())"
   ]
  },
  {
   "cell_type": "code",
   "execution_count": 31,
   "metadata": {},
   "outputs": [
    {
     "name": "stdout",
     "output_type": "stream",
     "text": [
      "How rare is credit card fraud?\n",
      "0    284315\n",
      "1       492\n",
      "Name: Class, dtype: int64\n"
     ]
    }
   ],
   "source": [
    "print(\"How rare is credit card fraud?\")\n",
    "print(df['Class'].value_counts())"
   ]
  },
  {
   "cell_type": "markdown",
   "metadata": {},
   "source": [
    "Is there any trend of transactions over time?"
   ]
  },
  {
   "cell_type": "code",
   "execution_count": 4,
   "metadata": {},
   "outputs": [
    {
     "name": "stderr",
     "output_type": "stream",
     "text": [
      "/usr/local/lib/python3.6/dist-packages/matplotlib/axes/_axes.py:6462: UserWarning: The 'normed' kwarg is deprecated, and has been replaced by the 'density' kwarg.\n",
      "  warnings.warn(\"The 'normed' kwarg is deprecated, and has been \"\n",
      "/usr/local/lib/python3.6/dist-packages/matplotlib/axes/_axes.py:6462: UserWarning: The 'normed' kwarg is deprecated, and has been replaced by the 'density' kwarg.\n",
      "  warnings.warn(\"The 'normed' kwarg is deprecated, and has been \"\n"
     ]
    },
    {
     "data": {
      "text/plain": [
       "Text(0.5,1,'Class 1 (fraudulent transaction)')"
      ]
     },
     "execution_count": 4,
     "metadata": {},
     "output_type": "execute_result"
    },
    {
     "data": {
      "image/png": "[encoded data removed]",
      "text/plain": [
       "<Figure size 432x288 with 2 Axes>"
      ]
     },
     "metadata": {},
     "output_type": "display_data"
    }
   ],
   "source": [
    "fig, ax = plt.subplots(nrows=2, sharex=True)\n",
    "plt.suptitle('Frequencies of transactions over time (s)')\n",
    "sns.distplot(df[df['Class'] == 0]['Time'], ax=ax[0], kde=False)\n",
    "ax[0].set_xlabel('')\n",
    "ax[0].set_title('Class 0 (normal transaction)')\n",
    "sns.distplot(df[df['Class'] == 1]['Time'], ax=ax[1], kde=False)\n",
    "ax[1].set_title('Class 1 (fraudulent transaction)')"
   ]
  },
  {
   "cell_type": "markdown",
   "metadata": {},
   "source": [
    "Convert time in seconds to hours. "
   ]
  },
  {
   "cell_type": "code",
   "execution_count": 5,
   "metadata": {},
   "outputs": [
    {
     "name": "stderr",
     "output_type": "stream",
     "text": [
      "/usr/local/lib/python3.6/dist-packages/matplotlib/axes/_axes.py:6462: UserWarning: The 'normed' kwarg is deprecated, and has been replaced by the 'density' kwarg.\n",
      "  warnings.warn(\"The 'normed' kwarg is deprecated, and has been \"\n",
      "/usr/local/lib/python3.6/dist-packages/matplotlib/axes/_axes.py:6462: UserWarning: The 'normed' kwarg is deprecated, and has been replaced by the 'density' kwarg.\n",
      "  warnings.warn(\"The 'normed' kwarg is deprecated, and has been \"\n"
     ]
    },
    {
     "data": {
      "text/plain": [
       "Text(0.5,1,'Class 1 (fraudulent transaction)')"
      ]
     },
     "execution_count": 5,
     "metadata": {},
     "output_type": "execute_result"
    },
    {
     "data": {
      "image/png": "[encoded data removed]",
      "text/plain": [
       "<Figure size 432x288 with 2 Axes>"
      ]
     },
     "metadata": {},
     "output_type": "display_data"
    }
   ],
   "source": [
    "df['Hour'] = np.floor(df['Time']/3600)\n",
    "fig, ax = plt.subplots(nrows=2, sharex=True)\n",
    "plt.suptitle('Frequencies of transactions over time (hour)')\n",
    "ax[0].xaxis.set_major_locator(ticker.MultipleLocator(6))\n",
    "ax[0].xaxis.set_major_formatter(ticker.ScalarFormatter())\n",
    "sns.distplot(df[df['Class'] == 0]['Hour'], ax=ax[0], kde=False)\n",
    "ax[0].set_xlabel('')\n",
    "ax[0].set_title('Class 0 (normal transaction)')\n",
    "sns.distplot(df[df['Class'] == 1]['Hour'], ax=ax[1], kde=False)\n",
    "ax[1].set_title('Class 1 (fraudulent transaction)')"
   ]
  },
  {
   "cell_type": "markdown",
   "metadata": {},
   "source": [
    "Observation: Number of transactions varies with time. We can consider using it as a feature. "
   ]
  },
  {
   "cell_type": "markdown",
   "metadata": {},
   "source": [
    "Training anomaly detection methods requires a dataset with all normal instances. "
   ]
  },
  {
   "cell_type": "code",
   "execution_count": 7,
   "metadata": {},
   "outputs": [],
   "source": [
    "df_normal = df[df['Class'] == 0]\n",
    "df_normal_train, df_normal_test = train_test_split(df_normal, test_size=0.33, random_state=0)\n",
    "df_test = df_normal_test.append(df[df['Class'] == 1])\n",
    "\n",
    "X_anomaly_train = df_normal_train.drop('Class', axis=1)\n",
    "X_anomaly_test = df_test.drop('Class', axis=1)\n",
    "y_anomaly_test = df_test['Class']\n",
    "del df_normal_train, df_test"
   ]
  },
  {
   "cell_type": "markdown",
   "metadata": {},
   "source": [
    "For general classification models we split the training and testing datasets the usual way. \n",
    "First the datasets without oversampling:"
   ]
  },
  {
   "cell_type": "code",
   "execution_count": 8,
   "metadata": {},
   "outputs": [],
   "source": [
    "X_train, X_test, y_train, y_test = train_test_split(df.drop(['Class', 'Time'], axis=1), df['Class'],\\\n",
    "                                                    test_size=0.33, random_state=0)"
   ]
  },
  {
   "cell_type": "markdown",
   "metadata": {},
   "source": [
    "Now oversample to 1:1:"
   ]
  },
  {
   "cell_type": "code",
   "execution_count": 9,
   "metadata": {},
   "outputs": [],
   "source": [
    "sm = SMOTE(random_state=0, ratio='auto')\n",
    "X_train_res, y_train_res = sm.fit_sample(X_train, y_train)"
   ]
  },
  {
   "cell_type": "markdown",
   "metadata": {},
   "source": [
    "## Fit the Models ##"
   ]
  },
  {
   "cell_type": "markdown",
   "metadata": {},
   "source": [
    "### Isolation Forest ###"
   ]
  },
  {
   "cell_type": "code",
   "execution_count": 11,
   "metadata": {},
   "outputs": [
    {
     "data": {
      "text/plain": [
       "IsolationForest(bootstrap=False, contamination=0.005, max_features=1.0,\n",
       "        max_samples='auto', n_estimators=100, n_jobs=1, random_state=0,\n",
       "        verbose=0)"
      ]
     },
     "execution_count": 11,
     "metadata": {},
     "output_type": "execute_result"
    }
   ],
   "source": [
    "clf_if = IsolationForest(max_samples=\"auto\", random_state=0, contamination=0.005) \n",
    "clf_if.fit(X_anomaly_train)"
   ]
  },
  {
   "cell_type": "markdown",
   "metadata": {},
   "source": [
    "Merge prediction with true classification. Note that the anomaly score Isolation Forest generates is the lower the more abnormal, so we need to reverse it."
   ]
  },
  {
   "cell_type": "code",
   "execution_count": 13,
   "metadata": {},
   "outputs": [],
   "source": [
    "checkresults = y_anomaly_test.to_frame(name='Class').reset_index()\\\n",
    "               .join(pd.DataFrame(clf_if.decision_function(X_anomaly_test), columns=['anomaly_score']))\\\n",
    "               .join(pd.DataFrame(clf_if.predict(X_anomaly_test), columns=['prediction']))\n",
    "\n",
    "checkresults['reversed_anomaly_score'] = -1 * checkresults['anomaly_score']"
   ]
  },
  {
   "cell_type": "markdown",
   "metadata": {},
   "source": [
    "Write a function to plot the precision-recall curve. "
   ]
  },
  {
   "cell_type": "code",
   "execution_count": 14,
   "metadata": {},
   "outputs": [],
   "source": [
    "def calc_plot_auprc(clf_name, y_score):\n",
    "    average_precision = average_precision_score(checkresults['Class'], checkresults[y_score], average='samples')\n",
    "\n",
    "    print('Average precision-recall score for {}: {} in test data'.format(clf_name, average_precision))\n",
    "\n",
    "    precision, recall, _ = precision_recall_curve(checkresults['Class'], checkresults[y_score])\n",
    "\n",
    "    plt.step(recall, precision, color='b', alpha=0.2, where='post')\n",
    "    plt.fill_between(recall, precision, step='post', alpha=0.2, color='b')\n",
    "\n",
    "    plt.xlabel('Recall')\n",
    "    plt.ylabel('Precision')\n",
    "    plt.ylim([0.0, 1.05])\n",
    "    plt.xlim([0.0, 1.0])\n",
    "    plt.title('2-class Precision-Recall curve: AP={0:0.4f}'.format(average_precision))"
   ]
  },
  {
   "cell_type": "code",
   "execution_count": 15,
   "metadata": {},
   "outputs": [
    {
     "name": "stdout",
     "output_type": "stream",
     "text": [
      "Average precision-recall score for isolation forest: 0.2685240560953985 in test data\n"
     ]
    },
    {
     "data": {
      "image/png": "[encoded data removed]",
      "text/plain": [
       "<Figure size 432x288 with 1 Axes>"
      ]
     },
     "metadata": {},
     "output_type": "display_data"
    }
   ],
   "source": [
    "calc_plot_auprc(\"isolation forest\", 'reversed_anomaly_score')"
   ]
  },
  {
   "cell_type": "code",
   "execution_count": 16,
   "metadata": {},
   "outputs": [],
   "source": [
    "del checkresults"
   ]
  },
  {
   "cell_type": "code",
   "execution_count": 17,
   "metadata": {},
   "outputs": [],
   "source": [
    "# clf_svm1c = OneClassSVM(random_state=0)\n",
    "# clf_svm1c.fit(X_normal_train)\n",
    "# # Takes very long"
   ]
  },
  {
   "cell_type": "markdown",
   "metadata": {},
   "source": [
    "### Light GBM ###"
   ]
  },
  {
   "cell_type": "markdown",
   "metadata": {},
   "source": [
    "#### without oversampling ####"
   ]
  },
  {
   "cell_type": "code",
   "execution_count": 18,
   "metadata": {},
   "outputs": [
    {
     "data": {
      "text/plain": [
       "LGBMClassifier(boosting_type='gbdt', class_weight=None, colsample_bytree=1.0,\n",
       "        learning_rate=0.1, max_depth=-1, min_child_samples=20,\n",
       "        min_child_weight=0.001, min_split_gain=0.0, n_estimators=100,\n",
       "        n_jobs=-1, num_leaves=31, objective=None, random_state=0,\n",
       "        reg_alpha=0.0, reg_lambda=0.0, silent=True, subsample=1.0,\n",
       "        subsample_for_bin=200000, subsample_freq=1)"
      ]
     },
     "execution_count": 18,
     "metadata": {},
     "output_type": "execute_result"
    }
   ],
   "source": [
    "clf_lgb = LGBMClassifier(random_state=0)\n",
    "clf_lgb.fit(X_train, y_train)  "
   ]
  },
  {
   "cell_type": "code",
   "execution_count": 19,
   "metadata": {},
   "outputs": [
    {
     "name": "stdout",
     "output_type": "stream",
     "text": [
      "Training AUPRC: 1.0000\n",
      "Average precision-recall score for Light GBM: 0.8535459886249628 in test data\n"
     ]
    },
    {
     "data": {
      "image/png": "[encoded data removed]",
      "text/plain": [
       "<Figure size 432x288 with 1 Axes>"
      ]
     },
     "metadata": {},
     "output_type": "display_data"
    }
   ],
   "source": [
    "checkresults = y_test.to_frame(name='Class').reset_index()\\\n",
    "               .join(pd.DataFrame(clf_lgb.predict_proba(X_test)[:, 1], columns=['predicted_probability']))\\\n",
    "               .join(pd.DataFrame(clf_lgb.predict_proba(X_test)[:, 1], columns=['prediction']))\n",
    "\n",
    "print(\"Training AUPRC: {0:0.4f}\"\\\n",
    "      .format(average_precision_score(y_train, clf_lgb.predict_proba(X_train)[:, 1], average='samples')))\n",
    "\n",
    "calc_plot_auprc(\"Light GBM\", 'predicted_probability')"
   ]
  },
  {
   "cell_type": "markdown",
   "metadata": {},
   "source": [
    "A perfect precision-recall in training data but 0.85 AUPRC in test data - looks like Light GBM overfits to training data. "
   ]
  },
  {
   "cell_type": "code",
   "execution_count": 20,
   "metadata": {},
   "outputs": [],
   "source": [
    "del checkresults"
   ]
  },
  {
   "cell_type": "markdown",
   "metadata": {},
   "source": [
    "#### with oversampling ####"
   ]
  },
  {
   "cell_type": "code",
   "execution_count": 21,
   "metadata": {},
   "outputs": [
    {
     "data": {
      "text/plain": [
       "LGBMClassifier(boosting_type='gbdt', class_weight=None, colsample_bytree=1.0,\n",
       "        learning_rate=0.1, max_depth=-1, min_child_samples=20,\n",
       "        min_child_weight=0.001, min_split_gain=0.0, n_estimators=100,\n",
       "        n_jobs=-1, num_leaves=31, objective=None, random_state=0,\n",
       "        reg_alpha=0.0, reg_lambda=0.0, silent=True, subsample=1.0,\n",
       "        subsample_for_bin=200000, subsample_freq=1)"
      ]
     },
     "execution_count": 21,
     "metadata": {},
     "output_type": "execute_result"
    }
   ],
   "source": [
    "clf_lgb_oversample = LGBMClassifier(random_state=0)\n",
    "clf_lgb_oversample.fit(X_train_res, y_train_res)"
   ]
  },
  {
   "cell_type": "code",
   "execution_count": 22,
   "metadata": {},
   "outputs": [
    {
     "name": "stdout",
     "output_type": "stream",
     "text": [
      "Training AUPRC: 0.9977\n",
      "Average precision-recall score for Light GBM (oversampling data): 0.8079545125387172 in test data\n"
     ]
    },
    {
     "data": {
      "image/png": "[encoded data removed]",
      "text/plain": [
       "<Figure size 432x288 with 1 Axes>"
      ]
     },
     "metadata": {},
     "output_type": "display_data"
    }
   ],
   "source": [
    "checkresults = y_test.to_frame(name='Class').reset_index()\\\n",
    "               .join(pd.DataFrame(clf_lgb_oversample.predict_proba(X_test)[:, 1], columns=['predicted_probability']))\\\n",
    "               .join(pd.DataFrame(clf_lgb_oversample.predict_proba(X_test)[:, 1], columns=['prediction']))\n",
    "\n",
    "print(\"Training AUPRC: {0:0.4f}\"\\\n",
    "      .format(average_precision_score(y_train_res, clf_lgb.predict_proba(X_train_res)[:, 1], average='samples')))\n",
    "\n",
    "calc_plot_auprc(\"Light GBM (oversampling data)\", 'predicted_probability')"
   ]
  },
  {
   "cell_type": "markdown",
   "metadata": {},
   "source": [
    "Oversampling did not improve the prediction. "
   ]
  },
  {
   "cell_type": "markdown",
   "metadata": {},
   "source": [
    "### XGBoost ###"
   ]
  },
  {
   "cell_type": "markdown",
   "metadata": {},
   "source": [
    "#### without oversampling ####"
   ]
  },
  {
   "cell_type": "code",
   "execution_count": 23,
   "metadata": {},
   "outputs": [
    {
     "data": {
      "text/plain": [
       "XGBClassifier(base_score=0.5, booster='gbtree', colsample_bylevel=1,\n",
       "       colsample_bytree=1, gamma=0, learning_rate=0.1, max_delta_step=0,\n",
       "       max_depth=3, min_child_weight=1, missing=None, n_estimators=100,\n",
       "       n_jobs=1, nthread=None, objective='binary:logistic', random_state=0,\n",
       "       reg_alpha=0, reg_lambda=1, scale_pos_weight=1, seed=None,\n",
       "       silent=True, subsample=1)"
      ]
     },
     "execution_count": 23,
     "metadata": {},
     "output_type": "execute_result"
    }
   ],
   "source": [
    "clf_xgb = XGBClassifier(random_state=0)\n",
    "clf_xgb.fit(X_train, y_train)"
   ]
  },
  {
   "cell_type": "code",
   "execution_count": 24,
   "metadata": {},
   "outputs": [
    {
     "name": "stdout",
     "output_type": "stream",
     "text": [
      "Training AUPRC: 0.9180\n",
      "Average precision-recall score for XGBoost: 0.8481792538035726 in test data\n"
     ]
    },
    {
     "data": {
      "image/png": "[encoded data removed]",
      "text/plain": [
       "<Figure size 432x288 with 1 Axes>"
      ]
     },
     "metadata": {},
     "output_type": "display_data"
    }
   ],
   "source": [
    "checkresults = y_test.to_frame(name='Class').reset_index()\\\n",
    "               .join(pd.DataFrame(clf_xgb.predict_proba(X_test)[:, 1], columns=['predicted_probability']))\\\n",
    "               .join(pd.DataFrame(clf_xgb.predict_proba(X_test)[:, 1], columns=['prediction']))\n",
    "\n",
    "print(\"Training AUPRC: {0:0.4f}\"\\\n",
    "      .format(average_precision_score(y_train, clf_xgb.predict_proba(X_train)[:, 1], average='samples')))\n",
    "\n",
    "calc_plot_auprc(\"XGBoost\", 'predicted_probability')"
   ]
  },
  {
   "cell_type": "markdown",
   "metadata": {},
   "source": [
    "Oversampling did not lead to any improvement in the Light GBM model so it will not be performed here. "
   ]
  },
  {
   "cell_type": "markdown",
   "metadata": {},
   "source": [
    "Final thoughts:\n",
    "* Isolation Forest does not perform well in identifying credit card fraud. Only default hyperparameters are used in this analysis but I would not expect a substantial change after tuning hyperparameters.\n",
    "* Oversampling does not improve model performance when class imbalance is extreme. \n",
    "* Boosted tree methods tend to overfit but they still have good performance that I would try those methods for future analyses of this type. "
   ]
  },
  {
   "cell_type": "code",
   "execution_count": null,
   "metadata": {},
   "outputs": [],
   "source": []
  }
 ],
 "metadata": {
  "kernelspec": {
   "display_name": "Python 3",
   "language": "python",
   "name": "python3"
  },
  "language_info": {
   "codemirror_mode": {
    "name": "ipython",
    "version": 3
   },
   "file_extension": ".py",
   "mimetype": "text/x-python",
   "name": "python",
   "nbconvert_exporter": "python",
   "pygments_lexer": "ipython3",
   "version": "3.6.5"
  }
 },
 "nbformat": 4,
 "nbformat_minor": 2
}
